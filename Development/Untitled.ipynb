{
 "cells": [
  {
   "cell_type": "code",
   "execution_count": 16,
   "metadata": {},
   "outputs": [],
   "source": [
    "import pandas as pd\n",
    "import ast\n",
    "import plotly"
   ]
  },
  {
   "cell_type": "code",
   "execution_count": 2,
   "metadata": {},
   "outputs": [],
   "source": [
    "data = pd.read_csv(\"sample_data.csv\")"
   ]
  },
  {
   "cell_type": "code",
   "execution_count": 3,
   "metadata": {},
   "outputs": [
    {
     "data": {
      "text/html": [
       "<div>\n",
       "<style scoped>\n",
       "    .dataframe tbody tr th:only-of-type {\n",
       "        vertical-align: middle;\n",
       "    }\n",
       "\n",
       "    .dataframe tbody tr th {\n",
       "        vertical-align: top;\n",
       "    }\n",
       "\n",
       "    .dataframe thead th {\n",
       "        text-align: right;\n",
       "    }\n",
       "</style>\n",
       "<table border=\"1\" class=\"dataframe\">\n",
       "  <thead>\n",
       "    <tr style=\"text-align: right;\">\n",
       "      <th></th>\n",
       "      <th>timestamp</th>\n",
       "      <th>country_code</th>\n",
       "      <th>url</th>\n",
       "      <th>file</th>\n",
       "      <th>details</th>\n",
       "      <th>tls_protocol</th>\n",
       "      <th>tls_cipher</th>\n",
       "    </tr>\n",
       "  </thead>\n",
       "  <tbody>\n",
       "    <tr>\n",
       "      <th>0</th>\n",
       "      <td>2019-02-25 00:17:58+00:00</td>\n",
       "      <td>US</td>\n",
       "      <td>/packages/8a/48/a76be51647d0eb9f10e2a4511bf3ff...</td>\n",
       "      <td>{'filename': 'termcolor-1.1.0.tar.gz', 'projec...</td>\n",
       "      <td>{'installer': {'name': 'pip', 'version': '19.0...</td>\n",
       "      <td>TLSv1.2</td>\n",
       "      <td>ECDHE-RSA-AES128-GCM-SHA256</td>\n",
       "    </tr>\n",
       "    <tr>\n",
       "      <th>1</th>\n",
       "      <td>2019-02-25 00:14:00+00:00</td>\n",
       "      <td>US</td>\n",
       "      <td>/packages/bc/a9/01ffebfb562e4274b6487b4bb1ddec...</td>\n",
       "      <td>{'filename': 'chardet-3.0.4-py2.py3-none-any.w...</td>\n",
       "      <td>{'installer': {'name': 'pip', 'version': '19.0...</td>\n",
       "      <td>TLSv1.2</td>\n",
       "      <td>ECDHE-RSA-AES128-GCM-SHA256</td>\n",
       "    </tr>\n",
       "    <tr>\n",
       "      <th>2</th>\n",
       "      <td>2019-02-25 00:17:31+00:00</td>\n",
       "      <td>US</td>\n",
       "      <td>/packages/7e/9f/526a6947247599b084ee5232e4f919...</td>\n",
       "      <td>{'filename': 'wcwidth-0.1.7-py2.py3-none-any.w...</td>\n",
       "      <td>{'installer': {'name': 'pip', 'version': '19.0...</td>\n",
       "      <td>TLSv1.2</td>\n",
       "      <td>ECDHE-RSA-AES128-GCM-SHA256</td>\n",
       "    </tr>\n",
       "    <tr>\n",
       "      <th>3</th>\n",
       "      <td>2019-02-25 00:18:56+00:00</td>\n",
       "      <td>JP</td>\n",
       "      <td>/packages/c2/f7/c7b501b783e5a74cf1768bc174ee4f...</td>\n",
       "      <td>{'filename': 'setuptools-40.8.0.zip', 'project...</td>\n",
       "      <td>{'installer': {'name': 'Homebrew', 'version': ...</td>\n",
       "      <td>TLSv1.2</td>\n",
       "      <td>ECDHE-RSA-AES128-GCM-SHA256</td>\n",
       "    </tr>\n",
       "    <tr>\n",
       "      <th>4</th>\n",
       "      <td>2019-02-25 00:18:55+00:00</td>\n",
       "      <td>US</td>\n",
       "      <td>/packages/67/f0/ba0fb41dbdbfc4aa3e0c16b40269ac...</td>\n",
       "      <td>{'filename': 'pip-6.1.1-py2.py3-none-any.whl',...</td>\n",
       "      <td>{'installer': {'name': 'pip', 'version': '19.0...</td>\n",
       "      <td>TLSv1.2</td>\n",
       "      <td>ECDHE-RSA-AES128-GCM-SHA256</td>\n",
       "    </tr>\n",
       "  </tbody>\n",
       "</table>\n",
       "</div>"
      ],
      "text/plain": [
       "                   timestamp country_code  \\\n",
       "0  2019-02-25 00:17:58+00:00           US   \n",
       "1  2019-02-25 00:14:00+00:00           US   \n",
       "2  2019-02-25 00:17:31+00:00           US   \n",
       "3  2019-02-25 00:18:56+00:00           JP   \n",
       "4  2019-02-25 00:18:55+00:00           US   \n",
       "\n",
       "                                                 url  \\\n",
       "0  /packages/8a/48/a76be51647d0eb9f10e2a4511bf3ff...   \n",
       "1  /packages/bc/a9/01ffebfb562e4274b6487b4bb1ddec...   \n",
       "2  /packages/7e/9f/526a6947247599b084ee5232e4f919...   \n",
       "3  /packages/c2/f7/c7b501b783e5a74cf1768bc174ee4f...   \n",
       "4  /packages/67/f0/ba0fb41dbdbfc4aa3e0c16b40269ac...   \n",
       "\n",
       "                                                file  \\\n",
       "0  {'filename': 'termcolor-1.1.0.tar.gz', 'projec...   \n",
       "1  {'filename': 'chardet-3.0.4-py2.py3-none-any.w...   \n",
       "2  {'filename': 'wcwidth-0.1.7-py2.py3-none-any.w...   \n",
       "3  {'filename': 'setuptools-40.8.0.zip', 'project...   \n",
       "4  {'filename': 'pip-6.1.1-py2.py3-none-any.whl',...   \n",
       "\n",
       "                                             details tls_protocol  \\\n",
       "0  {'installer': {'name': 'pip', 'version': '19.0...      TLSv1.2   \n",
       "1  {'installer': {'name': 'pip', 'version': '19.0...      TLSv1.2   \n",
       "2  {'installer': {'name': 'pip', 'version': '19.0...      TLSv1.2   \n",
       "3  {'installer': {'name': 'Homebrew', 'version': ...      TLSv1.2   \n",
       "4  {'installer': {'name': 'pip', 'version': '19.0...      TLSv1.2   \n",
       "\n",
       "                    tls_cipher  \n",
       "0  ECDHE-RSA-AES128-GCM-SHA256  \n",
       "1  ECDHE-RSA-AES128-GCM-SHA256  \n",
       "2  ECDHE-RSA-AES128-GCM-SHA256  \n",
       "3  ECDHE-RSA-AES128-GCM-SHA256  \n",
       "4  ECDHE-RSA-AES128-GCM-SHA256  "
      ]
     },
     "execution_count": 3,
     "metadata": {},
     "output_type": "execute_result"
    }
   ],
   "source": [
    "data.head()"
   ]
  },
  {
   "cell_type": "code",
   "execution_count": 6,
   "metadata": {},
   "outputs": [
    {
     "data": {
      "text/plain": [
       "\"{'filename': 'termcolor-1.1.0.tar.gz', 'project': 'termcolor', 'version': '1.1.0', 'type': 'sdist'}\""
      ]
     },
     "execution_count": 6,
     "metadata": {},
     "output_type": "execute_result"
    }
   ],
   "source": [
    "data['file'][0]"
   ]
  },
  {
   "cell_type": "code",
   "execution_count": 19,
   "metadata": {},
   "outputs": [],
   "source": [
    "data['module'] = data['file'].apply(lambda x : ast.literal_eval(x)['project'])"
   ]
  },
  {
   "cell_type": "code",
   "execution_count": 28,
   "metadata": {},
   "outputs": [
    {
     "data": {
      "text/plain": [
       "urllib3            1528\n",
       "pip                1336\n",
       "botocore           1145\n",
       "s3transfer         1080\n",
       "six                1036\n",
       "python-dateutil    1011\n",
       "requests            863\n",
       "jmespath            850\n",
       "certifi             821\n",
       "pyasn1              808\n",
       "Name: module, dtype: int64"
      ]
     },
     "execution_count": 28,
     "metadata": {},
     "output_type": "execute_result"
    }
   ],
   "source": [
    "data['module'].value_counts()[0:10]"
   ]
  },
  {
   "cell_type": "code",
   "execution_count": null,
   "metadata": {},
   "outputs": [],
   "source": []
  }
 ],
 "metadata": {
  "kernelspec": {
   "display_name": "Python 3",
   "language": "python",
   "name": "python3"
  },
  "language_info": {
   "codemirror_mode": {
    "name": "ipython",
    "version": 3
   },
   "file_extension": ".py",
   "mimetype": "text/x-python",
   "name": "python",
   "nbconvert_exporter": "python",
   "pygments_lexer": "ipython3",
   "version": "3.6.5"
  }
 },
 "nbformat": 4,
 "nbformat_minor": 2
}
